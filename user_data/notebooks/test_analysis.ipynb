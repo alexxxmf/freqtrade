{
 "cells": [
  {
   "cell_type": "markdown",
   "metadata": {},
   "source": [
    "# Strategy analysis example\n",
    "\n",
    "Debugging a strategy can be time-consuming. Freqtrade offers helper functions to visualize raw data.\n",
    "The following assumes you work with SampleStrategy, data for 5m timeframe from Binance and have downloaded them into the data directory in the default location."
   ]
  },
  {
   "cell_type": "markdown",
   "metadata": {},
   "source": [
    "## Setup"
   ]
  },
  {
   "cell_type": "code",
   "execution_count": 1,
   "metadata": {},
   "outputs": [
    {
     "name": "stdout",
     "output_type": "stream",
     "text": [
      "/freqtrade\n",
      "                           date      open      high       low     close  \\\n",
      "0     2022-05-08 00:03:00+00:00  35451.66  35451.66  35357.32  35357.32   \n",
      "1     2022-05-08 00:04:00+00:00  35357.32  35357.32  35357.32  35357.32   \n",
      "2     2022-05-08 00:05:00+00:00  35357.32  35357.32  35357.32  35357.32   \n",
      "3     2022-05-08 00:06:00+00:00  35357.32  35357.32  35357.32  35357.32   \n",
      "4     2022-05-08 00:07:00+00:00  35383.95  35383.95  35383.95  35383.95   \n",
      "...                         ...       ...       ...       ...       ...   \n",
      "87583 2022-07-07 19:46:00+00:00  21690.99  21701.00  21690.99  21701.00   \n",
      "87584 2022-07-07 19:47:00+00:00  21724.09  21724.09  21724.09  21724.09   \n",
      "87585 2022-07-07 19:48:00+00:00  21710.54  21710.54  21710.54  21710.54   \n",
      "87586 2022-07-07 19:49:00+00:00  21710.53  21717.02  21710.53  21717.02   \n",
      "87587 2022-07-07 19:50:00+00:00  21719.83  21738.81  21719.83  21738.81   \n",
      "\n",
      "         volume  \n",
      "0      0.502135  \n",
      "1      0.000000  \n",
      "2      0.000000  \n",
      "3      0.000000  \n",
      "4      0.080645  \n",
      "...         ...  \n",
      "87583  0.218691  \n",
      "87584  0.115074  \n",
      "87585  0.000107  \n",
      "87586  0.000466  \n",
      "87587  0.033880  \n",
      "\n",
      "[87588 rows x 6 columns]\n"
     ]
    }
   ],
   "source": [
    "from pathlib import Path\n",
    "import os\n",
    "from freqtrade.configuration import Configuration\n",
    "from freqtrade.data.history import load_pair_history\n",
    "\n",
    "\n",
    "# https://www.freqtrade.io/en/stable/data-analysis/\n",
    "# Quick trick to redefine project root and avoid the default one being set up by notebook\n",
    "project_root = \"somedir/freqtrade\"\n",
    "i=0\n",
    "try:\n",
    "    os.chdirdir(project_root)\n",
    "    assert Path('LICENSE').is_file()\n",
    "except:\n",
    "    while i<4 and (not Path('LICENSE').is_file()):\n",
    "        os.chdir(Path(Path.cwd(), '../'))\n",
    "        i+=1\n",
    "    project_root = Path.cwd()\n",
    "print(Path.cwd())\n",
    "\n",
    "config = Configuration.from_files([])\n",
    "\n",
    "data_location = Path(config['user_data_dir'], 'data', 'kraken')\n",
    "\n",
    "timeframe = \"1m\"\n",
    "\n",
    "pair  = \"BTC/USDC\"\n",
    "\n",
    "df = load_pair_history(datadir=data_location,\n",
    "                            timeframe=timeframe,\n",
    "                            pair=pair,\n",
    "                            data_format = \"json\",\n",
    "                            )\n",
    "\n",
    "print(df)"
   ]
  },
  {
   "cell_type": "code",
   "execution_count": 2,
   "metadata": {},
   "outputs": [
    {
     "data": {
      "text/plain": [
       "0        35451.66\n",
       "1        35357.32\n",
       "2        35357.32\n",
       "3        35357.32\n",
       "4        35383.95\n",
       "           ...   \n",
       "87583    21701.00\n",
       "87584    21724.09\n",
       "87585    21710.54\n",
       "87586    21717.02\n",
       "87587    21738.81\n",
       "Name: high, Length: 87588, dtype: float64"
      ]
     },
     "execution_count": 2,
     "metadata": {},
     "output_type": "execute_result"
    }
   ],
   "source": [
    "df['high']"
   ]
  },
  {
   "cell_type": "code",
   "execution_count": 3,
   "metadata": {},
   "outputs": [
    {
     "ename": "ModuleNotFoundError",
     "evalue": "No module named 'matplotlib'",
     "output_type": "error",
     "traceback": [
      "\u001b[0;31m---------------------------------------------------------------------------\u001b[0m",
      "\u001b[0;31mModuleNotFoundError\u001b[0m                       Traceback (most recent call last)",
      "Input \u001b[0;32mIn [3]\u001b[0m, in \u001b[0;36m<cell line: 2>\u001b[0;34m()\u001b[0m\n\u001b[1;32m      1\u001b[0m \u001b[38;5;28;01mfrom\u001b[39;00m \u001b[38;5;21;01mscipy\u001b[39;00m\u001b[38;5;21;01m.\u001b[39;00m\u001b[38;5;21;01mstats\u001b[39;00m \u001b[38;5;28;01mimport\u001b[39;00m norm\n\u001b[0;32m----> 2\u001b[0m \u001b[38;5;28;01mfrom\u001b[39;00m \u001b[38;5;21;01mmatplotlib\u001b[39;00m \u001b[38;5;28;01mimport\u001b[39;00m pyplot \u001b[38;5;28;01mas\u001b[39;00m plt\n\u001b[1;32m      3\u001b[0m \u001b[38;5;28;01mimport\u001b[39;00m \u001b[38;5;21;01mnumpy\u001b[39;00m \u001b[38;5;28;01mas\u001b[39;00m \u001b[38;5;21;01mnp\u001b[39;00m\n",
      "\u001b[0;31mModuleNotFoundError\u001b[0m: No module named 'matplotlib'"
     ]
    }
   ],
   "source": [
    "from scipy.stats import norm\n",
    "from matplotlib import pyplot as plt\n",
    "import numpy as np"
   ]
  },
  {
   "cell_type": "code",
   "execution_count": null,
   "metadata": {},
   "outputs": [],
   "source": [
    "data = candles['high'].to_numpy()                              # Numpy arrays are easier for 1D data\n",
    "mu, std = norm.fit(data)                          # Fit a normal distribution\n",
    "print(\"Mu and Std: \", mu, std)\n",
    "\n",
    "CI_95 = norm.interval(0.95, loc=mu, scale=std)    # Find the 95% CI endpoints\n",
    "print(\"Confidence Interval: \", CI_95)\n",
    "\n",
    "plt.vlines(CI_95, ymin=0, ymax=0.4)               # plotting stuff\n",
    "x = np.linspace(mu - 3*std, mu + 3*std, 100)\n",
    "plt.plot(x, norm.pdf(x, mu, std))\n",
    "plt.show()"
   ]
  },
  {
   "cell_type": "code",
   "execution_count": null,
   "metadata": {},
   "outputs": [],
   "source": [
    "data = candles['low'].to_numpy()                              # Numpy arrays are easier for 1D data\n",
    "mu, std = norm.fit(data)                          # Fit a normal distribution\n",
    "print(\"Mu and Std: \", mu, std)\n",
    "\n",
    "CI_95 = norm.interval(0.95, loc=mu, scale=std)    # Find the 95% CI endpoints\n",
    "print(\"Confidence Interval: \", CI_95)\n",
    "\n",
    "plt.vlines(CI_95, ymin=0, ymax=0.4)               # plotting stuff\n",
    "x = np.linspace(mu - 3*std, mu + 3*std, 100)\n",
    "plt.plot(x, norm.pdf(x, mu, std))\n",
    "plt.show()"
   ]
  },
  {
   "cell_type": "code",
   "execution_count": null,
   "metadata": {},
   "outputs": [],
   "source": [
    "print(candles['high'].max())\n",
    "print(candles['low'].max())\n",
    "print(candles['high'].min())\n",
    "print(candles['low'].min())"
   ]
  },
  {
   "cell_type": "code",
   "execution_count": null,
   "metadata": {},
   "outputs": [],
   "source": [
    "candles['low'].min()"
   ]
  },
  {
   "cell_type": "code",
   "execution_count": 4,
   "metadata": {},
   "outputs": [
    {
     "ename": "NameError",
     "evalue": "name 'candles' is not defined",
     "output_type": "error",
     "traceback": [
      "\u001b[0;31m---------------------------------------------------------------------------\u001b[0m",
      "\u001b[0;31mNameError\u001b[0m                                 Traceback (most recent call last)",
      "Input \u001b[0;32mIn [4]\u001b[0m, in \u001b[0;36m<cell line: 1>\u001b[0;34m()\u001b[0m\n\u001b[0;32m----> 1\u001b[0m \u001b[43mcandles\u001b[49m[\u001b[38;5;124m'\u001b[39m\u001b[38;5;124mhigh\u001b[39m\u001b[38;5;124m'\u001b[39m]\u001b[38;5;241m.\u001b[39mcount()\n",
      "\u001b[0;31mNameError\u001b[0m: name 'candles' is not defined"
     ]
    }
   ],
   "source": [
    "candles['high'].count()"
   ]
  },
  {
   "cell_type": "code",
   "execution_count": 5,
   "metadata": {},
   "outputs": [
    {
     "ename": "NameError",
     "evalue": "name 'candles' is not defined",
     "output_type": "error",
     "traceback": [
      "\u001b[0;31m---------------------------------------------------------------------------\u001b[0m",
      "\u001b[0;31mNameError\u001b[0m                                 Traceback (most recent call last)",
      "Input \u001b[0;32mIn [5]\u001b[0m, in \u001b[0;36m<cell line: 1>\u001b[0;34m()\u001b[0m\n\u001b[0;32m----> 1\u001b[0m \u001b[38;5;28mprint\u001b[39m(\u001b[43mcandles\u001b[49m[\u001b[38;5;124m'\u001b[39m\u001b[38;5;124mhigh\u001b[39m\u001b[38;5;124m'\u001b[39m]\u001b[38;5;241m.\u001b[39mquantile(\u001b[38;5;241m0.996\u001b[39m))\n\u001b[1;32m      2\u001b[0m \u001b[38;5;28mprint\u001b[39m(candles[\u001b[38;5;124m'\u001b[39m\u001b[38;5;124mlow\u001b[39m\u001b[38;5;124m'\u001b[39m]\u001b[38;5;241m.\u001b[39mquantile(\u001b[38;5;241m0.005\u001b[39m))\n",
      "\u001b[0;31mNameError\u001b[0m: name 'candles' is not defined"
     ]
    }
   ],
   "source": [
    "print(candles['high'].quantile(0.996))\n",
    "print(candles['low'].quantile(0.005))"
   ]
  },
  {
   "cell_type": "code",
   "execution_count": 6,
   "metadata": {},
   "outputs": [
    {
     "ename": "NameError",
     "evalue": "name 'std' is not defined",
     "output_type": "error",
     "traceback": [
      "\u001b[0;31m---------------------------------------------------------------------------\u001b[0m",
      "\u001b[0;31mNameError\u001b[0m                                 Traceback (most recent call last)",
      "Input \u001b[0;32mIn [6]\u001b[0m, in \u001b[0;36m<cell line: 1>\u001b[0;34m()\u001b[0m\n\u001b[0;32m----> 1\u001b[0m \u001b[43mstd\u001b[49m\n",
      "\u001b[0;31mNameError\u001b[0m: name 'std' is not defined"
     ]
    }
   ],
   "source": [
    "std"
   ]
  },
  {
   "cell_type": "code",
   "execution_count": 7,
   "metadata": {},
   "outputs": [
    {
     "ename": "NameError",
     "evalue": "name 'std' is not defined",
     "output_type": "error",
     "traceback": [
      "\u001b[0;31m---------------------------------------------------------------------------\u001b[0m",
      "\u001b[0;31mNameError\u001b[0m                                 Traceback (most recent call last)",
      "Input \u001b[0;32mIn [7]\u001b[0m, in \u001b[0;36m<cell line: 1>\u001b[0;34m()\u001b[0m\n\u001b[0;32m----> 1\u001b[0m \u001b[38;5;241m3\u001b[39m\u001b[38;5;241m*\u001b[39m\u001b[43mstd\u001b[49m\n",
      "\u001b[0;31mNameError\u001b[0m: name 'std' is not defined"
     ]
    }
   ],
   "source": [
    "3*std"
   ]
  },
  {
   "cell_type": "code",
   "execution_count": 8,
   "metadata": {},
   "outputs": [],
   "source": [
    "import talib.abstract as ta\n",
    "import freqtrade.vendor.qtpylib.indicators as qtpylib\n",
    "import pandas_ta as pta"
   ]
  },
  {
   "cell_type": "code",
   "execution_count": 9,
   "metadata": {},
   "outputs": [],
   "source": [
    "df['rsi14'] = ta.RSI(df, timeperiod=14)\n",
    "macd = ta.MACD(df)\n",
    "df['macd'] = macd['macd']\n",
    "df['sma15'] = ta.SMA(df, timeperiod=15)\n",
    "df['sma5'] = ta.SMA(df, timeperiod=5)"
   ]
  },
  {
   "cell_type": "code",
   "execution_count": 27,
   "metadata": {},
   "outputs": [
    {
     "data": {
      "text/html": [
       "<div>\n",
       "<style scoped>\n",
       "    .dataframe tbody tr th:only-of-type {\n",
       "        vertical-align: middle;\n",
       "    }\n",
       "\n",
       "    .dataframe tbody tr th {\n",
       "        vertical-align: top;\n",
       "    }\n",
       "\n",
       "    .dataframe thead th {\n",
       "        text-align: right;\n",
       "    }\n",
       "</style>\n",
       "<table border=\"1\" class=\"dataframe\">\n",
       "  <thead>\n",
       "    <tr style=\"text-align: right;\">\n",
       "      <th></th>\n",
       "      <th>MACD_12_26_9</th>\n",
       "      <th>MACDh_12_26_9</th>\n",
       "      <th>MACDs_12_26_9</th>\n",
       "    </tr>\n",
       "  </thead>\n",
       "  <tbody>\n",
       "    <tr>\n",
       "      <th>0</th>\n",
       "      <td>NaN</td>\n",
       "      <td>NaN</td>\n",
       "      <td>NaN</td>\n",
       "    </tr>\n",
       "    <tr>\n",
       "      <th>1</th>\n",
       "      <td>NaN</td>\n",
       "      <td>NaN</td>\n",
       "      <td>NaN</td>\n",
       "    </tr>\n",
       "    <tr>\n",
       "      <th>2</th>\n",
       "      <td>NaN</td>\n",
       "      <td>NaN</td>\n",
       "      <td>NaN</td>\n",
       "    </tr>\n",
       "    <tr>\n",
       "      <th>3</th>\n",
       "      <td>NaN</td>\n",
       "      <td>NaN</td>\n",
       "      <td>NaN</td>\n",
       "    </tr>\n",
       "    <tr>\n",
       "      <th>4</th>\n",
       "      <td>NaN</td>\n",
       "      <td>NaN</td>\n",
       "      <td>NaN</td>\n",
       "    </tr>\n",
       "    <tr>\n",
       "      <th>...</th>\n",
       "      <td>...</td>\n",
       "      <td>...</td>\n",
       "      <td>...</td>\n",
       "    </tr>\n",
       "    <tr>\n",
       "      <th>87583</th>\n",
       "      <td>74.586986</td>\n",
       "      <td>11.737722</td>\n",
       "      <td>62.849265</td>\n",
       "    </tr>\n",
       "    <tr>\n",
       "      <th>87584</th>\n",
       "      <td>77.671388</td>\n",
       "      <td>11.857699</td>\n",
       "      <td>65.813689</td>\n",
       "    </tr>\n",
       "    <tr>\n",
       "      <th>87585</th>\n",
       "      <td>78.121887</td>\n",
       "      <td>9.846558</td>\n",
       "      <td>68.275329</td>\n",
       "    </tr>\n",
       "    <tr>\n",
       "      <th>87586</th>\n",
       "      <td>78.101487</td>\n",
       "      <td>7.860926</td>\n",
       "      <td>70.240560</td>\n",
       "    </tr>\n",
       "    <tr>\n",
       "      <th>87587</th>\n",
       "      <td>78.933692</td>\n",
       "      <td>6.954505</td>\n",
       "      <td>71.979187</td>\n",
       "    </tr>\n",
       "  </tbody>\n",
       "</table>\n",
       "<p>87588 rows × 3 columns</p>\n",
       "</div>"
      ],
      "text/plain": [
       "       MACD_12_26_9  MACDh_12_26_9  MACDs_12_26_9\n",
       "0               NaN            NaN            NaN\n",
       "1               NaN            NaN            NaN\n",
       "2               NaN            NaN            NaN\n",
       "3               NaN            NaN            NaN\n",
       "4               NaN            NaN            NaN\n",
       "...             ...            ...            ...\n",
       "87583     74.586986      11.737722      62.849265\n",
       "87584     77.671388      11.857699      65.813689\n",
       "87585     78.121887       9.846558      68.275329\n",
       "87586     78.101487       7.860926      70.240560\n",
       "87587     78.933692       6.954505      71.979187\n",
       "\n",
       "[87588 rows x 3 columns]"
      ]
     },
     "execution_count": 27,
     "metadata": {},
     "output_type": "execute_result"
    }
   ],
   "source": [
    "df.ta.macd()"
   ]
  },
  {
   "cell_type": "code",
   "execution_count": 28,
   "metadata": {},
   "outputs": [
    {
     "data": {
      "text/plain": [
       "0              NaN\n",
       "1              NaN\n",
       "2              NaN\n",
       "3              NaN\n",
       "4              NaN\n",
       "           ...    \n",
       "87583    74.586986\n",
       "87584    77.671388\n",
       "87585    78.121887\n",
       "87586    78.101487\n",
       "87587    78.933692\n",
       "Name: macd, Length: 87588, dtype: float64"
      ]
     },
     "execution_count": 28,
     "metadata": {},
     "output_type": "execute_result"
    }
   ],
   "source": [
    "df['macd']"
   ]
  },
  {
   "cell_type": "code",
   "execution_count": null,
   "metadata": {},
   "outputs": [],
   "source": []
  },
  {
   "cell_type": "code",
   "execution_count": 12,
   "metadata": {},
   "outputs": [
    {
     "ename": "NameError",
     "evalue": "name 'plt' is not defined",
     "output_type": "error",
     "traceback": [
      "\u001b[0;31m---------------------------------------------------------------------------\u001b[0m",
      "\u001b[0;31mNameError\u001b[0m                                 Traceback (most recent call last)",
      "Input \u001b[0;32mIn [12]\u001b[0m, in \u001b[0;36m<cell line: 1>\u001b[0;34m()\u001b[0m\n\u001b[0;32m----> 1\u001b[0m \u001b[43mplt\u001b[49m\u001b[38;5;241m.\u001b[39mplot(df[\u001b[38;5;124m'\u001b[39m\u001b[38;5;124mdate\u001b[39m\u001b[38;5;124m'\u001b[39m], df[\u001b[38;5;124m'\u001b[39m\u001b[38;5;124mclose\u001b[39m\u001b[38;5;124m'\u001b[39m])\n",
      "\u001b[0;31mNameError\u001b[0m: name 'plt' is not defined"
     ]
    }
   ],
   "source": [
    "plt.plot(df['date'], df['close'])"
   ]
  },
  {
   "cell_type": "code",
   "execution_count": 13,
   "metadata": {},
   "outputs": [
    {
     "ename": "ModuleNotFoundError",
     "evalue": "No module named 'mplfinance'",
     "output_type": "error",
     "traceback": [
      "\u001b[0;31m---------------------------------------------------------------------------\u001b[0m",
      "\u001b[0;31mModuleNotFoundError\u001b[0m                       Traceback (most recent call last)",
      "Input \u001b[0;32mIn [13]\u001b[0m, in \u001b[0;36m<cell line: 1>\u001b[0;34m()\u001b[0m\n\u001b[0;32m----> 1\u001b[0m \u001b[38;5;28;01mimport\u001b[39;00m \u001b[38;5;21;01mmplfinance\u001b[39;00m \u001b[38;5;28;01mas\u001b[39;00m \u001b[38;5;21;01mmf\u001b[39;00m\n",
      "\u001b[0;31mModuleNotFoundError\u001b[0m: No module named 'mplfinance'"
     ]
    }
   ],
   "source": [
    "import mplfinance as mf"
   ]
  },
  {
   "cell_type": "code",
   "execution_count": 14,
   "metadata": {},
   "outputs": [
    {
     "ename": "NameError",
     "evalue": "name 'mf' is not defined",
     "output_type": "error",
     "traceback": [
      "\u001b[0;31m---------------------------------------------------------------------------\u001b[0m",
      "\u001b[0;31mNameError\u001b[0m                                 Traceback (most recent call last)",
      "Input \u001b[0;32mIn [14]\u001b[0m, in \u001b[0;36m<cell line: 1>\u001b[0;34m()\u001b[0m\n\u001b[0;32m----> 1\u001b[0m \u001b[43mmf\u001b[49m\u001b[38;5;241m.\u001b[39mplot(df\u001b[38;5;241m.\u001b[39miloc[:\u001b[38;5;241m-\u001b[39m\u001b[38;5;241m50\u001b[39m,:])\n",
      "\u001b[0;31mNameError\u001b[0m: name 'mf' is not defined"
     ]
    }
   ],
   "source": [
    "mf.plot(df.iloc[:-50,:])"
   ]
  },
  {
   "cell_type": "code",
   "execution_count": 15,
   "metadata": {},
   "outputs": [],
   "source": [
    "df['index'] = df['date']"
   ]
  },
  {
   "cell_type": "code",
   "execution_count": 16,
   "metadata": {},
   "outputs": [
    {
     "data": {
      "text/html": [
       "<div>\n",
       "<style scoped>\n",
       "    .dataframe tbody tr th:only-of-type {\n",
       "        vertical-align: middle;\n",
       "    }\n",
       "\n",
       "    .dataframe tbody tr th {\n",
       "        vertical-align: top;\n",
       "    }\n",
       "\n",
       "    .dataframe thead th {\n",
       "        text-align: right;\n",
       "    }\n",
       "</style>\n",
       "<table border=\"1\" class=\"dataframe\">\n",
       "  <thead>\n",
       "    <tr style=\"text-align: right;\">\n",
       "      <th></th>\n",
       "      <th>date</th>\n",
       "      <th>open</th>\n",
       "      <th>high</th>\n",
       "      <th>low</th>\n",
       "      <th>close</th>\n",
       "      <th>volume</th>\n",
       "      <th>rsi14</th>\n",
       "      <th>macd</th>\n",
       "      <th>sma15</th>\n",
       "      <th>sma5</th>\n",
       "      <th>index</th>\n",
       "    </tr>\n",
       "  </thead>\n",
       "  <tbody>\n",
       "    <tr>\n",
       "      <th>0</th>\n",
       "      <td>2022-05-08 00:03:00+00:00</td>\n",
       "      <td>35451.66</td>\n",
       "      <td>35451.66</td>\n",
       "      <td>35357.32</td>\n",
       "      <td>35357.32</td>\n",
       "      <td>0.502135</td>\n",
       "      <td>NaN</td>\n",
       "      <td>NaN</td>\n",
       "      <td>NaN</td>\n",
       "      <td>NaN</td>\n",
       "      <td>2022-05-08 00:03:00+00:00</td>\n",
       "    </tr>\n",
       "    <tr>\n",
       "      <th>1</th>\n",
       "      <td>2022-05-08 00:04:00+00:00</td>\n",
       "      <td>35357.32</td>\n",
       "      <td>35357.32</td>\n",
       "      <td>35357.32</td>\n",
       "      <td>35357.32</td>\n",
       "      <td>0.000000</td>\n",
       "      <td>NaN</td>\n",
       "      <td>NaN</td>\n",
       "      <td>NaN</td>\n",
       "      <td>NaN</td>\n",
       "      <td>2022-05-08 00:04:00+00:00</td>\n",
       "    </tr>\n",
       "    <tr>\n",
       "      <th>2</th>\n",
       "      <td>2022-05-08 00:05:00+00:00</td>\n",
       "      <td>35357.32</td>\n",
       "      <td>35357.32</td>\n",
       "      <td>35357.32</td>\n",
       "      <td>35357.32</td>\n",
       "      <td>0.000000</td>\n",
       "      <td>NaN</td>\n",
       "      <td>NaN</td>\n",
       "      <td>NaN</td>\n",
       "      <td>NaN</td>\n",
       "      <td>2022-05-08 00:05:00+00:00</td>\n",
       "    </tr>\n",
       "    <tr>\n",
       "      <th>3</th>\n",
       "      <td>2022-05-08 00:06:00+00:00</td>\n",
       "      <td>35357.32</td>\n",
       "      <td>35357.32</td>\n",
       "      <td>35357.32</td>\n",
       "      <td>35357.32</td>\n",
       "      <td>0.000000</td>\n",
       "      <td>NaN</td>\n",
       "      <td>NaN</td>\n",
       "      <td>NaN</td>\n",
       "      <td>NaN</td>\n",
       "      <td>2022-05-08 00:06:00+00:00</td>\n",
       "    </tr>\n",
       "    <tr>\n",
       "      <th>4</th>\n",
       "      <td>2022-05-08 00:07:00+00:00</td>\n",
       "      <td>35383.95</td>\n",
       "      <td>35383.95</td>\n",
       "      <td>35383.95</td>\n",
       "      <td>35383.95</td>\n",
       "      <td>0.080645</td>\n",
       "      <td>NaN</td>\n",
       "      <td>NaN</td>\n",
       "      <td>NaN</td>\n",
       "      <td>35362.646</td>\n",
       "      <td>2022-05-08 00:07:00+00:00</td>\n",
       "    </tr>\n",
       "    <tr>\n",
       "      <th>...</th>\n",
       "      <td>...</td>\n",
       "      <td>...</td>\n",
       "      <td>...</td>\n",
       "      <td>...</td>\n",
       "      <td>...</td>\n",
       "      <td>...</td>\n",
       "      <td>...</td>\n",
       "      <td>...</td>\n",
       "      <td>...</td>\n",
       "      <td>...</td>\n",
       "      <td>...</td>\n",
       "    </tr>\n",
       "    <tr>\n",
       "      <th>87583</th>\n",
       "      <td>2022-07-07 19:46:00+00:00</td>\n",
       "      <td>21690.99</td>\n",
       "      <td>21701.00</td>\n",
       "      <td>21690.99</td>\n",
       "      <td>21701.00</td>\n",
       "      <td>0.218691</td>\n",
       "      <td>69.521720</td>\n",
       "      <td>74.586986</td>\n",
       "      <td>21580.762667</td>\n",
       "      <td>21665.914</td>\n",
       "      <td>2022-07-07 19:46:00+00:00</td>\n",
       "    </tr>\n",
       "    <tr>\n",
       "      <th>87584</th>\n",
       "      <td>2022-07-07 19:47:00+00:00</td>\n",
       "      <td>21724.09</td>\n",
       "      <td>21724.09</td>\n",
       "      <td>21724.09</td>\n",
       "      <td>21724.09</td>\n",
       "      <td>0.115074</td>\n",
       "      <td>71.112937</td>\n",
       "      <td>77.671388</td>\n",
       "      <td>21597.036000</td>\n",
       "      <td>21681.114</td>\n",
       "      <td>2022-07-07 19:47:00+00:00</td>\n",
       "    </tr>\n",
       "    <tr>\n",
       "      <th>87585</th>\n",
       "      <td>2022-07-07 19:48:00+00:00</td>\n",
       "      <td>21710.54</td>\n",
       "      <td>21710.54</td>\n",
       "      <td>21710.54</td>\n",
       "      <td>21710.54</td>\n",
       "      <td>0.000107</td>\n",
       "      <td>68.841557</td>\n",
       "      <td>78.121887</td>\n",
       "      <td>21610.168667</td>\n",
       "      <td>21693.604</td>\n",
       "      <td>2022-07-07 19:48:00+00:00</td>\n",
       "    </tr>\n",
       "    <tr>\n",
       "      <th>87586</th>\n",
       "      <td>2022-07-07 19:49:00+00:00</td>\n",
       "      <td>21710.53</td>\n",
       "      <td>21717.02</td>\n",
       "      <td>21710.53</td>\n",
       "      <td>21717.02</td>\n",
       "      <td>0.000466</td>\n",
       "      <td>69.345814</td>\n",
       "      <td>78.101487</td>\n",
       "      <td>21628.849333</td>\n",
       "      <td>21710.730</td>\n",
       "      <td>2022-07-07 19:49:00+00:00</td>\n",
       "    </tr>\n",
       "    <tr>\n",
       "      <th>87587</th>\n",
       "      <td>2022-07-07 19:50:00+00:00</td>\n",
       "      <td>21719.83</td>\n",
       "      <td>21738.81</td>\n",
       "      <td>21719.83</td>\n",
       "      <td>21738.81</td>\n",
       "      <td>0.033880</td>\n",
       "      <td>71.042876</td>\n",
       "      <td>78.933692</td>\n",
       "      <td>21648.982667</td>\n",
       "      <td>21718.292</td>\n",
       "      <td>2022-07-07 19:50:00+00:00</td>\n",
       "    </tr>\n",
       "  </tbody>\n",
       "</table>\n",
       "<p>87588 rows × 11 columns</p>\n",
       "</div>"
      ],
      "text/plain": [
       "                           date      open      high       low     close  \\\n",
       "0     2022-05-08 00:03:00+00:00  35451.66  35451.66  35357.32  35357.32   \n",
       "1     2022-05-08 00:04:00+00:00  35357.32  35357.32  35357.32  35357.32   \n",
       "2     2022-05-08 00:05:00+00:00  35357.32  35357.32  35357.32  35357.32   \n",
       "3     2022-05-08 00:06:00+00:00  35357.32  35357.32  35357.32  35357.32   \n",
       "4     2022-05-08 00:07:00+00:00  35383.95  35383.95  35383.95  35383.95   \n",
       "...                         ...       ...       ...       ...       ...   \n",
       "87583 2022-07-07 19:46:00+00:00  21690.99  21701.00  21690.99  21701.00   \n",
       "87584 2022-07-07 19:47:00+00:00  21724.09  21724.09  21724.09  21724.09   \n",
       "87585 2022-07-07 19:48:00+00:00  21710.54  21710.54  21710.54  21710.54   \n",
       "87586 2022-07-07 19:49:00+00:00  21710.53  21717.02  21710.53  21717.02   \n",
       "87587 2022-07-07 19:50:00+00:00  21719.83  21738.81  21719.83  21738.81   \n",
       "\n",
       "         volume      rsi14       macd         sma15       sma5  \\\n",
       "0      0.502135        NaN        NaN           NaN        NaN   \n",
       "1      0.000000        NaN        NaN           NaN        NaN   \n",
       "2      0.000000        NaN        NaN           NaN        NaN   \n",
       "3      0.000000        NaN        NaN           NaN        NaN   \n",
       "4      0.080645        NaN        NaN           NaN  35362.646   \n",
       "...         ...        ...        ...           ...        ...   \n",
       "87583  0.218691  69.521720  74.586986  21580.762667  21665.914   \n",
       "87584  0.115074  71.112937  77.671388  21597.036000  21681.114   \n",
       "87585  0.000107  68.841557  78.121887  21610.168667  21693.604   \n",
       "87586  0.000466  69.345814  78.101487  21628.849333  21710.730   \n",
       "87587  0.033880  71.042876  78.933692  21648.982667  21718.292   \n",
       "\n",
       "                          index  \n",
       "0     2022-05-08 00:03:00+00:00  \n",
       "1     2022-05-08 00:04:00+00:00  \n",
       "2     2022-05-08 00:05:00+00:00  \n",
       "3     2022-05-08 00:06:00+00:00  \n",
       "4     2022-05-08 00:07:00+00:00  \n",
       "...                         ...  \n",
       "87583 2022-07-07 19:46:00+00:00  \n",
       "87584 2022-07-07 19:47:00+00:00  \n",
       "87585 2022-07-07 19:48:00+00:00  \n",
       "87586 2022-07-07 19:49:00+00:00  \n",
       "87587 2022-07-07 19:50:00+00:00  \n",
       "\n",
       "[87588 rows x 11 columns]"
      ]
     },
     "execution_count": 16,
     "metadata": {},
     "output_type": "execute_result"
    }
   ],
   "source": [
    "df"
   ]
  },
  {
   "cell_type": "code",
   "execution_count": 30,
   "metadata": {},
   "outputs": [],
   "source": [
    "df['vwma20'] = df.ta.vwma(length=20)"
   ]
  },
  {
   "cell_type": "code",
   "execution_count": 35,
   "metadata": {},
   "outputs": [
    {
     "data": {
      "text/plain": [
       "0                 NaN\n",
       "1                 NaN\n",
       "2                 NaN\n",
       "3                 NaN\n",
       "4                 NaN\n",
       "             ...     \n",
       "87583    21485.859744\n",
       "87584    21487.413617\n",
       "87585    21487.878812\n",
       "87586    21487.880352\n",
       "87587    21488.354498\n",
       "Name: VWMA_20, Length: 87588, dtype: float64"
      ]
     },
     "execution_count": 35,
     "metadata": {},
     "output_type": "execute_result"
    }
   ],
   "source": [
    "pta.vwma(df['close'], df['volume'], length=20)"
   ]
  },
  {
   "cell_type": "code",
   "execution_count": 34,
   "metadata": {},
   "outputs": [
    {
     "name": "stdout",
     "output_type": "stream",
     "text": [
      "Help on function vwma in module pandas_ta.overlap.vwma:\n",
      "\n",
      "vwma(close, volume, length=None, offset=None, **kwargs)\n",
      "    Volume Weighted Moving Average (VWMA)\n",
      "    \n",
      "    Volume Weighted Moving Average.\n",
      "    \n",
      "    Sources:\n",
      "        https://www.motivewave.com/studies/volume_weighted_moving_average.htm\n",
      "    \n",
      "    Calculation:\n",
      "        Default Inputs:\n",
      "            length=10\n",
      "        SMA = Simple Moving Average\n",
      "        pv = close * volume\n",
      "        VWMA = SMA(pv, length) / SMA(volume, length)\n",
      "    \n",
      "    Args:\n",
      "        close (pd.Series): Series of 'close's\n",
      "        volume (pd.Series): Series of 'volume's\n",
      "        length (int): It's period. Default: 10\n",
      "        offset (int): How many periods to offset the result. Default: 0\n",
      "    \n",
      "    Kwargs:\n",
      "        fillna (value, optional): pd.DataFrame.fillna(value)\n",
      "        fill_method (value, optional): Type of fill method\n",
      "    \n",
      "    Returns:\n",
      "        pd.Series: New feature generated.\n",
      "\n"
     ]
    }
   ],
   "source": [
    "help(pta.vwma)"
   ]
  },
  {
   "cell_type": "code",
   "execution_count": null,
   "metadata": {},
   "outputs": [],
   "source": []
  }
 ],
 "metadata": {
  "file_extension": ".py",
  "kernelspec": {
   "display_name": "Python 3 (ipykernel)",
   "language": "python",
   "name": "python3"
  },
  "language_info": {
   "codemirror_mode": {
    "name": "ipython",
    "version": 3
   },
   "file_extension": ".py",
   "mimetype": "text/x-python",
   "name": "python",
   "nbconvert_exporter": "python",
   "pygments_lexer": "ipython3",
   "version": "3.10.5"
  },
  "mimetype": "text/x-python",
  "name": "python",
  "npconvert_exporter": "python",
  "pygments_lexer": "ipython3",
  "toc": {
   "base_numbering": 1,
   "nav_menu": {},
   "number_sections": true,
   "sideBar": true,
   "skip_h1_title": false,
   "title_cell": "Table of Contents",
   "title_sidebar": "Contents",
   "toc_cell": false,
   "toc_position": {},
   "toc_section_display": true,
   "toc_window_display": false
  },
  "varInspector": {
   "cols": {
    "lenName": 16,
    "lenType": 16,
    "lenVar": 40
   },
   "kernels_config": {
    "python": {
     "delete_cmd_postfix": "",
     "delete_cmd_prefix": "del ",
     "library": "var_list.py",
     "varRefreshCmd": "print(var_dic_list())"
    },
    "r": {
     "delete_cmd_postfix": ") ",
     "delete_cmd_prefix": "rm(",
     "library": "var_list.r",
     "varRefreshCmd": "cat(var_dic_list()) "
    }
   },
   "types_to_exclude": [
    "module",
    "function",
    "builtin_function_or_method",
    "instance",
    "_Feature"
   ],
   "window_display": false
  },
  "version": 3,
  "vscode": {
   "interpreter": {
    "hash": "31f2aee4e71d21fbe5cf8b01ff0e069b9275f58929596ceb00d14d90e3e16cd6"
   }
  }
 },
 "nbformat": 4,
 "nbformat_minor": 4
}
